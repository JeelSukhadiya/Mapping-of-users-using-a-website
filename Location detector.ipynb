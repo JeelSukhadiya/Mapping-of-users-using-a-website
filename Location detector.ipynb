{
 "cells": [
  {
   "cell_type": "code",
   "execution_count": 38,
   "metadata": {},
   "outputs": [],
   "source": [
    "import urllib.request as urllib2\n",
    "import json\n",
    "import csv"
   ]
  },
  {
   "cell_type": "code",
   "execution_count": 50,
   "metadata": {},
   "outputs": [],
   "source": [
    "f=urllib2.urlopen('https://ipinfo.io/json')\n",
    "json_string=f.read()\n",
    "f.close()\n"
   ]
  },
  {
   "cell_type": "code",
   "execution_count": 107,
   "metadata": {},
   "outputs": [
    {
     "name": "stdout",
     "output_type": "stream",
     "text": [
      "{\"ip\": \"27.106.25.101\", \"city\": \"Mumbai\", \"region\": \"Maharashtra\", \"country\": \"IN\", \"loc\": \"18.9750,72.8258\", \"postal\": \"400067\", \"org\": \"AS45194 Syscon Infoway Pvt. Ltd.\"}\n"
     ]
    }
   ],
   "source": [
    "location=json.loads(json_string)\n",
    "loc=json.dumps(location)\n",
    "print(loc)\n",
    "location_ip='185.86.151.11'\n",
    "location_city='Japan'\n",
    "location_region='Japan'\n",
    "location_country='Japan'\n",
    "location_coord='36.2048,138.2529'\n",
    "location_pincode='10013'"
   ]
  },
  {
   "cell_type": "code",
   "execution_count": 108,
   "metadata": {},
   "outputs": [
    {
     "name": "stdout",
     "output_type": "stream",
     "text": [
      "Japan Japan Japan 36.2048,138.2529 10013\n"
     ]
    }
   ],
   "source": [
    "print (location_city,location_region,location_country,location_coord,location_pincode)"
   ]
  },
  {
   "cell_type": "code",
   "execution_count": 114,
   "metadata": {},
   "outputs": [
    {
     "data": {
      "text/plain": [
       "58"
      ]
     },
     "execution_count": 114,
     "metadata": {},
     "output_type": "execute_result"
    }
   ],
   "source": [
    "f = csv.writer(open(\"xyz.csv\", \"a\"))\n",
    "f.writerow([])\n",
    "f.writerow([location_ip,location_city,location_region,location_country,location_coord,location_pincode])\n"
   ]
  },
  {
   "cell_type": "code",
   "execution_count": 115,
   "metadata": {},
   "outputs": [
    {
     "name": "stdout",
     "output_type": "stream",
     "text": [
      "ip city region  country loc postal org\n",
      "\n",
      "72.229.28.185 New York New York United States 40.7214,-74.0052 10013\n",
      "\n",
      "\n",
      "\n",
      "72.229.28.185 New York New York United States 40.7214,-74.0052 10013\n",
      "\n",
      "\n",
      "\n",
      "185.86.151.11 London England United Kingdom 56.9500,24.1000 10013\n",
      "\n",
      "\n",
      "\n",
      "185.86.151.11 London England United Kingdom 56.9500,24.1000 10013\n",
      "\n",
      "\n",
      "\n",
      "185.86.151.11 bangalore Karnataka india 12.9716,77.5946 10013\n",
      "\n",
      "\n",
      "\n",
      "185.86.151.11 bangalore Karnataka india 12.9716,77.5946 10013\n",
      "\n",
      "\n",
      "\n",
      "185.86.151.11 Japan Japan Japan 36.2048,138.2529 10013\n",
      "\n",
      "\n",
      "\n",
      "185.86.151.11 Japan Japan Japan 36.2048,138.2529 10013\n",
      "\n",
      "\n",
      "\n",
      "185.86.151.11 Japan Japan Japan 36.2048,138.2529 10013\n",
      "\n"
     ]
    }
   ],
   "source": [
    "with open(\"xyz.csv\") as fl:\n",
    "    reader = csv.reader(fl)\n",
    "    for row in reader:\n",
    "        print(\" \".join(row))"
   ]
  },
  {
   "cell_type": "code",
   "execution_count": null,
   "metadata": {},
   "outputs": [],
   "source": []
  }
 ],
 "metadata": {
  "kernelspec": {
   "display_name": "Python 3",
   "language": "python",
   "name": "python3"
  },
  "language_info": {
   "codemirror_mode": {
    "name": "ipython",
    "version": 3
   },
   "file_extension": ".py",
   "mimetype": "text/x-python",
   "name": "python",
   "nbconvert_exporter": "python",
   "pygments_lexer": "ipython3",
   "version": "3.6.4"
  }
 },
 "nbformat": 4,
 "nbformat_minor": 2
}
